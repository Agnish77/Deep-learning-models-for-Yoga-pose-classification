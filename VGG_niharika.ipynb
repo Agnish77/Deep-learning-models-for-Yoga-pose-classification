{
 "cells": [
  {
   "cell_type": "code",
   "execution_count": 1,
   "id": "33398860",
   "metadata": {},
   "outputs": [
    {
     "name": "stderr",
     "output_type": "stream",
     "text": [
      "E:\\Anaconda\\Lib\\site-packages\\torchvision\\models\\_utils.py:208: UserWarning: The parameter 'pretrained' is deprecated since 0.13 and may be removed in the future, please use 'weights' instead.\n",
      "  warnings.warn(\n",
      "E:\\Anaconda\\Lib\\site-packages\\torchvision\\models\\_utils.py:223: UserWarning: Arguments other than a weight enum or `None` for 'weights' are deprecated since 0.13 and may be removed in the future. The current behavior is equivalent to passing `weights=VGG19_Weights.IMAGENET1K_V1`. You can also use `weights=VGG19_Weights.DEFAULT` to get the most up-to-date weights.\n",
      "  warnings.warn(msg)\n",
      "E:\\Anaconda\\Lib\\site-packages\\sklearn\\metrics\\_classification.py:1469: UndefinedMetricWarning: Precision is ill-defined and being set to 0.0 in labels with no predicted samples. Use `zero_division` parameter to control this behavior.\n",
      "  _warn_prf(average, modifier, msg_start, len(result))\n"
     ]
    },
    {
     "name": "stdout",
     "output_type": "stream",
     "text": [
      "Epoch [1/20], Accuracy: 0.3, Precision: 0.1744248778711947, Recall: 0.3, F1 Score: 0.20998576241197656\n"
     ]
    },
    {
     "name": "stderr",
     "output_type": "stream",
     "text": [
      "E:\\Anaconda\\Lib\\site-packages\\sklearn\\metrics\\_classification.py:1469: UndefinedMetricWarning: Precision is ill-defined and being set to 0.0 in labels with no predicted samples. Use `zero_division` parameter to control this behavior.\n",
      "  _warn_prf(average, modifier, msg_start, len(result))\n"
     ]
    },
    {
     "name": "stdout",
     "output_type": "stream",
     "text": [
      "Epoch [2/20], Accuracy: 0.4021276595744681, Precision: 0.44829757145023785, Recall: 0.4021276595744681, F1 Score: 0.27715435103438435\n",
      "Epoch [3/20], Accuracy: 0.5723404255319149, Precision: 0.5881331940629863, Recall: 0.5723404255319149, F1 Score: 0.5502568724807451\n",
      "Epoch [4/20], Accuracy: 0.7170212765957447, Precision: 0.7641284091368126, Recall: 0.7170212765957447, F1 Score: 0.7147820081441125\n",
      "Epoch [5/20], Accuracy: 0.7893617021276595, Precision: 0.786713564473752, Recall: 0.7893617021276595, F1 Score: 0.7876556509902669\n",
      "Epoch [6/20], Accuracy: 0.8468085106382979, Precision: 0.854245593215472, Recall: 0.8468085106382979, F1 Score: 0.8449478944652675\n",
      "Epoch [7/20], Accuracy: 0.7893617021276595, Precision: 0.8180337614458625, Recall: 0.7893617021276595, F1 Score: 0.7827071291745064\n",
      "Epoch [8/20], Accuracy: 0.8404255319148937, Precision: 0.8495300161521869, Recall: 0.8404255319148937, F1 Score: 0.8310810727206642\n",
      "Epoch [9/20], Accuracy: 0.8851063829787233, Precision: 0.890097419563602, Recall: 0.8851063829787233, F1 Score: 0.8856539481619726\n",
      "Epoch [10/20], Accuracy: 0.8574468085106383, Precision: 0.8801597591551477, Recall: 0.8574468085106383, F1 Score: 0.849739993369896\n",
      "Epoch [11/20], Accuracy: 0.8638297872340426, Precision: 0.8647916280130973, Recall: 0.8638297872340426, F1 Score: 0.8619592154819503\n",
      "Epoch [12/20], Accuracy: 0.8680851063829788, Precision: 0.8670935941045792, Recall: 0.8680851063829788, F1 Score: 0.8654778620082367\n",
      "Epoch [13/20], Accuracy: 0.8702127659574468, Precision: 0.8725368334136531, Recall: 0.8702127659574468, F1 Score: 0.8695954738457842\n",
      "Epoch [14/20], Accuracy: 0.9170212765957447, Precision: 0.917255118189604, Recall: 0.9170212765957447, F1 Score: 0.9161475627428558\n",
      "Epoch [15/20], Accuracy: 0.9148936170212766, Precision: 0.9174351884086442, Recall: 0.9148936170212766, F1 Score: 0.913780000004696\n",
      "Epoch [16/20], Accuracy: 0.8723404255319149, Precision: 0.8719921023399682, Recall: 0.8723404255319149, F1 Score: 0.8712670403345115\n",
      "Epoch [17/20], Accuracy: 0.9063829787234042, Precision: 0.9082566993569323, Recall: 0.9063829787234042, F1 Score: 0.9061907715799025\n",
      "Epoch [18/20], Accuracy: 0.9148936170212766, Precision: 0.9178586188571614, Recall: 0.9148936170212766, F1 Score: 0.914734054745385\n",
      "Epoch [19/20], Accuracy: 0.8595744680851064, Precision: 0.8756130806481143, Recall: 0.8595744680851064, F1 Score: 0.8580858368094275\n",
      "Epoch [20/20], Accuracy: 0.9063829787234042, Precision: 0.9086678000829128, Recall: 0.9063829787234042, F1 Score: 0.9058733101126833\n"
     ]
    }
   ],
   "source": [
    "import os\n",
    "import torch\n",
    "import torch.nn as nn\n",
    "import torch.optim as optim\n",
    "from torchvision import datasets, transforms, models\n",
    "from torch.utils.data import DataLoader\n",
    "from sklearn.metrics import precision_score, recall_score, f1_score\n",
    "\n",
    "# Define transformations\n",
    "img_height, img_width = 224, 224\n",
    "train_transforms = transforms.Compose([\n",
    "    transforms.Resize((img_height, img_width)),\n",
    "    transforms.ToTensor(),\n",
    "    transforms.Normalize(mean=[0.485, 0.456, 0.406], std=[0.229, 0.224, 0.225])\n",
    "])\n",
    "test_transforms = transforms.Compose([\n",
    "    transforms.Resize((img_height, img_width)),\n",
    "    transforms.ToTensor(),\n",
    "    transforms.Normalize(mean=[0.485, 0.456, 0.406], std=[0.229, 0.224, 0.225])\n",
    "])\n",
    "\n",
    "NUM_WORKERS = os.cpu_count()\n",
    "\n",
    "def create_dataloaders(train_dir, test_dir, train_transform, test_transform, batch_size, num_workers=NUM_WORKERS):\n",
    "    train_data = datasets.ImageFolder(train_dir, transform=train_transform)\n",
    "    test_data = datasets.ImageFolder(test_dir, transform=test_transform)\n",
    "    class_names = train_data.classes\n",
    "\n",
    "    train_dataloader = DataLoader(\n",
    "        train_data,\n",
    "        batch_size=batch_size,\n",
    "        shuffle=True,\n",
    "        num_workers=num_workers,\n",
    "        pin_memory=True\n",
    "    )\n",
    "    test_dataloader = DataLoader(\n",
    "        test_data,\n",
    "        batch_size=batch_size,\n",
    "        shuffle=False,\n",
    "        num_workers=num_workers,\n",
    "        pin_memory=True\n",
    "    )\n",
    "\n",
    "    return train_dataloader, test_dataloader, class_names\n",
    "\n",
    "# Setup dataloaders\n",
    "# Setup directory paths to train and test images\n",
    "train_dir=r'F:\\ML_Projects\\Image_Classification\\niharika\\DATASET\\TRAIN'\n",
    "test_dir =  r'F:\\ML_Projects\\Image_Classification\\niharika\\DATASET\\TEST'\n",
    "\n",
    "train_dataloader, test_dataloader, class_names = create_dataloaders(\n",
    "    train_dir=train_dir,\n",
    "    test_dir=test_dir,\n",
    "    train_transform=train_transforms,\n",
    "    test_transform=test_transforms,\n",
    "    batch_size=32\n",
    ")\n",
    "\n",
    "model = models.vgg19(pretrained=True)\n",
    "# Replace the final layer of the classifier to match the number of classes\n",
    "num_features = model.classifier[6].in_features\n",
    "model.classifier[6] = nn.Linear(num_features, len(class_names))\n",
    "\n",
    "# Define loss function and optimizer\n",
    "criterion = nn.CrossEntropyLoss()\n",
    "optimizer = optim.Adam(model.parameters(), lr=0.001)\n",
    "\n",
    "# Training loop\n",
    "num_epochs = 20\n",
    "for epoch in range(num_epochs):\n",
    "    model.train()\n",
    "    for inputs, labels in train_dataloader:\n",
    "        optimizer.zero_grad()\n",
    "        outputs = model(inputs)\n",
    "        loss = criterion(outputs, labels)\n",
    "        loss.backward()\n",
    "        optimizer.step()\n",
    "\n",
    "    model.eval()\n",
    "    correct = 0\n",
    "    total = 0\n",
    "    predicted_labels = []\n",
    "    true_labels = []\n",
    "    with torch.no_grad():\n",
    "        for inputs, labels in test_dataloader:\n",
    "            outputs = model(inputs)\n",
    "            _, predicted = torch.max(outputs.data, 1)\n",
    "            total += labels.size(0)\n",
    "            correct += (predicted == labels).sum().item()\n",
    "            predicted_labels.extend(predicted.cpu().numpy())\n",
    "            true_labels.extend(labels.cpu().numpy())\n",
    "\n",
    "    accuracy = correct / total\n",
    "    precision = precision_score(true_labels, predicted_labels, average='weighted')\n",
    "    recall = recall_score(true_labels, predicted_labels, average='weighted')\n",
    "    f1 = f1_score(true_labels, predicted_labels, average='weighted')\n",
    "\n",
    "    print(f\"Epoch [{epoch+1}/{num_epochs}], Accuracy: {accuracy}, Precision: {precision}, Recall: {recall}, F1 Score: {f1}\")\n"
   ]
  },
  {
   "cell_type": "code",
   "execution_count": 2,
   "id": "aaeac94b",
   "metadata": {},
   "outputs": [],
   "source": [
    "import torch\n",
    "\n",
    "# Assuming `model` is your PyTorch model\n",
    "torch.save(model.state_dict(), 'model3_inception_n.pth')"
   ]
  },
  {
   "cell_type": "code",
   "execution_count": 6,
   "id": "8090345e",
   "metadata": {},
   "outputs": [
    {
     "ename": "NameError",
     "evalue": "name 'VGG' is not defined",
     "output_type": "error",
     "traceback": [
      "\u001b[1;31m---------------------------------------------------------------------------\u001b[0m",
      "\u001b[1;31mNameError\u001b[0m                                 Traceback (most recent call last)",
      "Cell \u001b[1;32mIn[6], line 19\u001b[0m\n\u001b[0;32m     16\u001b[0m     plt\u001b[38;5;241m.\u001b[39mshow()\n\u001b[0;32m     18\u001b[0m \u001b[38;5;66;03m# Example usage:\u001b[39;00m\n\u001b[1;32m---> 19\u001b[0m plot_loss_curves(VGG)\n",
      "\u001b[1;31mNameError\u001b[0m: name 'VGG' is not defined"
     ]
    }
   ],
   "source": [
    "import matplotlib.pyplot as plt\n",
    "\n",
    "def plot_loss_curves(results):\n",
    "    \"\"\"Plot training and testing loss curves.\"\"\"\n",
    "    train_loss = results[\"train_loss\"]\n",
    "    test_loss = results[\"test_loss\"]\n",
    "\n",
    "    epochs = range(1, len(train_loss) + 1)\n",
    "\n",
    "    plt.plot(epochs, train_loss, label=\"Training Loss\")\n",
    "    plt.plot(epochs, test_loss, label=\"Testing Loss\")\n",
    "    plt.title(\"Training and Testing Loss Curves\")\n",
    "    plt.xlabel(\"Epoch\")\n",
    "    plt.ylabel(\"Loss\")\n",
    "    plt.legend()\n",
    "    plt.show()\n",
    "\n",
    "# Example usage:\n",
    "plot_loss_curves(VGG)"
   ]
  },
  {
   "cell_type": "code",
   "execution_count": null,
   "id": "977ce681",
   "metadata": {},
   "outputs": [],
   "source": []
  }
 ],
 "metadata": {
  "kernelspec": {
   "display_name": "Python 3 (ipykernel)",
   "language": "python",
   "name": "python3"
  },
  "language_info": {
   "codemirror_mode": {
    "name": "ipython",
    "version": 3
   },
   "file_extension": ".py",
   "mimetype": "text/x-python",
   "name": "python",
   "nbconvert_exporter": "python",
   "pygments_lexer": "ipython3",
   "version": "3.11.5"
  }
 },
 "nbformat": 4,
 "nbformat_minor": 5
}
